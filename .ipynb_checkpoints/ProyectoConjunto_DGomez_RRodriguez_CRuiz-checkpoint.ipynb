{
 "cells": [
  {
   "cell_type": "code",
   "execution_count": null,
   "metadata": {},

   "source": [
    "\n",
    "| i | x    | f(x)   |\n",
    "|---|------|--------|\n",
    "| 0 | -1   | 0.3678 |\n",
    "| <font color=red>1 |<font color=red> -0.5 |<font color=red> 0.7788 |\n",
    "| <font color=blue>2 |<font color=blue> 0    | <font color=blue> 1      |\n",
    "| <font color=red>3 |<font color=red> 0.5  |<font color=red> 0.7788 |\n",
    "| 4 | 1    | 0.3678 |\n",
    "\n",
    "                                            Cuadro 1 : Tabla de valores de f(x)\n",
    "    \n",
    "\n",
    "$$ \\int_{-1}^{1} e^{-x^2} dx \\approx \\frac{0,5}{3}[f(-1)+f(1)+4( \\color{red}{f(-0,5)+f(0,5)})+2f(0)]$$\n",
    "           $$ \\qquad\\qquad\\qquad\\qquad   \\approx \\frac{0,5}{3}[0,3678 + 0,3678 + 4(\\color{red}{0,7788 + 0,7788})+2\\centerdot1] \\approx 1,4943 $$\n",
    "    \n",
    "$\\quad$$\\qquad$$\\quad$ $\\text{A modo de verificación, se calculará por software, el vaor del área para n=100, un valor mucho }$\n",
    "    \n",
    "$\\quad$$\\qquad$$\\text{más elevado al que se utilizó anteriormente. Si lo calculado anteriormente es corecto, se esperaría que }$\n",
    "    \n",
    "$\\quad$$\\qquad$$\\text{sea próximo al valor presentado a continuación para ser una buena aproximación. }$\n",
    "    \n",
    "$$ \\int_{-1}^{1} e^{-x^2} dx \\approx 1,4936$$\n",
    "\n",
    "\n",
    "\n",
    "\n",
    "|     i               | 1   | 2   | 3   | 4   | 5 | 6 | 7  |\n",
    "|---------------------|-----|-----|-----|-----|---|---|----|\n",
    "| $E_{1}(V)$ | 12     | 10  | 24  | 12  | -   | - | - |\n",
    "| $r_{i}(\\Omega)$     | 0.1 | 0.5 | 0.2 | 0.5 | - | - | -  |\n",
    "| $R_{i}(\\Omega)$     | 25  | 10  | 16  | 20  | 9 | 4 | 20 |\n",
    "    "
   ]

  },
  {
   "cell_type": "markdown",
   "metadata": {},
   "source": [
    "\n",
    "   <span style=\"color:skyblue\">Kemna y Vorst (1990)</span>  muestran que las opciones asiáticas con media geométrica continua se pueden valuar con el mismo enfoque de las opciones *plain vanilla*; solo se deben cambiar los parámetros de volatilidad $\\sigma$ por $\\sigma_{a}$ , y el costo de acarrero *b* por $b_A$.\n",
    "\n",
    "De acuerdo con Kemna y Vorst, las formulas para valuar una opción de compra y una opción de venta son:\n",
    "$$ c \\approx S_t e^{(b_A-r)(T-t)}\\phi(d_1)-Ke^{-r(T-t)}\\phi(d_2),$$\n",
    "\n",
    "$$ p \\approx Ke^{(T-t)}\\phi(-d_2)-S_te^{(b_A-r)(T-t)}\\phi(-d_1).$$\n",
    "con *$d_1$* y *$d_2$* dados por:\n",
    "$$d_1 = \\frac{ln(S_t/K)+(b_A+1/2\\sigma^2_a)(T-t)}{\\sigma \\sqrt{T-t}},$$\n",
    "$$d_2 = d_1-\\sigma_a\\sqrt{T-t}$$\n",
    "La función $\\sigma$(d) es la función de distribución acumulada de E~N(0,1). La volatilidad ajustada es igual a:\n",
    "$$\\sigma_a=\\frac{\\sigma}{\\sqrt{3}},$$\n",
    "mientras que el costo de acarreo ajustado es:\n",
    "$$b_A= \\frac{1}{2}(v-\\frac{\\sigma^2}{6}).$$"
   ]
  },
  {
   "cell_type": "code",
   "execution_count": null,
   "metadata": {},
   "outputs": [],
   "source": []
  },
  {
   "cell_type": "markdown",
   "metadata": {},
   "source": []
  }
 ],
 "metadata": {
  "kernelspec": {
   "display_name": "Python 3",
   "language": "python",
   "name": "python3"
  },
  "language_info": {
   "codemirror_mode": {
    "name": "ipython",
    "version": 3
   },
   "file_extension": ".py",
   "mimetype": "text/x-python",
   "name": "python",
   "nbconvert_exporter": "python",
   "pygments_lexer": "ipython3",
   "version": "3.7.6"
  }
 },
 "nbformat": 4,
 "nbformat_minor": 4
}
